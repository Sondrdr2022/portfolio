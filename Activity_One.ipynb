{
 "cells": [
  {
   "cell_type": "code",
   "execution_count": 3,
   "id": "a432dae5",
   "metadata": {},
   "outputs": [
    {
     "name": "stdout",
     "output_type": "stream",
     "text": [
      " dave\n"
     ]
    }
   ],
   "source": [
    "name = \" dave\"\n",
    "print (name )"
   ]
  },
  {
   "cell_type": "code",
   "execution_count": 2,
   "id": "0dc13f0a",
   "metadata": {},
   "outputs": [
    {
     "name": "stdout",
     "output_type": "stream",
     "text": [
      "thai son \n"
     ]
    }
   ],
   "source": [
    "my_name = \"thai son \"\n",
    "print (my_name )"
   ]
  },
  {
   "cell_type": "code",
   "execution_count": 7,
   "id": "aab02261",
   "metadata": {},
   "outputs": [
    {
     "name": "stdout",
     "output_type": "stream",
     "text": [
      "2019\n"
     ]
    }
   ],
   "source": [
    "year = \"2019\"\n",
    "print (year)"
   ]
  },
  {
   "cell_type": "code",
   "execution_count": 8,
   "id": "45eb0428",
   "metadata": {},
   "outputs": [
    {
     "name": "stdout",
     "output_type": "stream",
     "text": [
      "3.14\n"
     ]
    }
   ],
   "source": [
    "pi =3.14\n",
    "print (pi)"
   ]
  },
  {
   "cell_type": "code",
   "execution_count": 12,
   "id": "35bd3c23",
   "metadata": {},
   "outputs": [
    {
     "name": "stdout",
     "output_type": "stream",
     "text": [
      "True\n"
     ]
    }
   ],
   "source": [
    "bool_ = True\n",
    "print(bool_)"
   ]
  },
  {
   "cell_type": "code",
   "execution_count": 23,
   "id": "4d4e5ab0",
   "metadata": {},
   "outputs": [
    {
     "name": "stdout",
     "output_type": "stream",
     "text": [
      "31\n"
     ]
    }
   ],
   "source": [
    "halloween = 31\n",
    "print (halloween)"
   ]
  },
  {
   "cell_type": "code",
   "execution_count": 4,
   "id": "d6f14b32",
   "metadata": {},
   "outputs": [
    {
     "name": "stdout",
     "output_type": "stream",
     "text": [
      "Earth radius in mile 3950.02\n"
     ]
    }
   ],
   "source": [
    "earth_radius_in_km = 6371\n",
    "one_mile = 0.62 #km //converting mile to km\n",
    "print (\"Earth radius in mile\",earth_radius_in_km * one_mile)"
   ]
  },
  {
   "cell_type": "code",
   "execution_count": 36,
   "id": "2420e2e1",
   "metadata": {},
   "outputs": [
    {
     "name": "stdout",
     "output_type": "stream",
     "text": [
      "Altitude in meters: 12192.0\n"
     ]
    }
   ],
   "source": [
    "altitude_in_feet = 40000\n",
    "one_meters =0.3048 #feet //converting meter to feet\n",
    "print(\"Altitude in meters:\", altitude_in_feet * one_meters)"
   ]
  },
  {
   "cell_type": "code",
   "execution_count": 6,
   "id": "649d07eb",
   "metadata": {},
   "outputs": [
    {
     "ename": "SyntaxError",
     "evalue": "unexpected character after line continuation character (171395467.py, line 6)",
     "output_type": "error",
     "traceback": [
      "\u001b[1;36m  Cell \u001b[1;32mIn[6], line 6\u001b[1;36m\u001b[0m\n\u001b[1;33m    print (x + y *(z-w)) \\\\bracket was added to see the differnt between two equation\u001b[0m\n\u001b[1;37m                          ^\u001b[0m\n\u001b[1;31mSyntaxError\u001b[0m\u001b[1;31m:\u001b[0m unexpected character after line continuation character\n"
     ]
    }
   ],
   "source": [
    "x = 5 \n",
    "y=9 \n",
    "z=8  \n",
    "w= 6\n",
    "print (x + y +z -w)\n",
    "print (x + y *(z-w)) #bracket was added to see the differnt between two equation\n"
   ]
  },
  {
   "cell_type": "code",
   "execution_count": null,
   "id": "7918da6a",
   "metadata": {},
   "outputs": [],
   "source": []
  }
 ],
 "metadata": {
  "kernelspec": {
   "display_name": "Python 3 (ipykernel)",
   "language": "python",
   "name": "python3"
  },
  "language_info": {
   "codemirror_mode": {
    "name": "ipython",
    "version": 3
   },
   "file_extension": ".py",
   "mimetype": "text/x-python",
   "name": "python",
   "nbconvert_exporter": "python",
   "pygments_lexer": "ipython3",
   "version": "3.11.5"
  }
 },
 "nbformat": 4,
 "nbformat_minor": 5
}
