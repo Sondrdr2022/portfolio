{
  "cells": [
    {
      "cell_type": "code",
      "execution_count": null,
      "id": "a432dae5",
      "metadata": {
        "id": "a432dae5",
        "outputId": "59894ff3-b933-4b51-d26f-0bbe13ad76d3"
      },
      "outputs": [
        {
          "name": "stdout",
          "output_type": "stream",
          "text": [
            " dave\n"
          ]
        }
      ],
      "source": [
        "name = \" dave\"\n",
        "print (name )"
      ]
    },
    {
      "cell_type": "code",
      "execution_count": null,
      "id": "0dc13f0a",
      "metadata": {
        "id": "0dc13f0a",
        "outputId": "4fb33fc2-eeac-42e4-c72e-b0892c4eac00"
      },
      "outputs": [
        {
          "name": "stdout",
          "output_type": "stream",
          "text": [
            "thai son \n"
          ]
        }
      ],
      "source": [
        "my_name = \"thai son \"\n",
        "print (my_name )"
      ]
    },
    {
      "cell_type": "code",
      "execution_count": null,
      "id": "aab02261",
      "metadata": {
        "id": "aab02261",
        "outputId": "46abd9c8-bfe7-4fb2-e28b-8cfcc20a557b"
      },
      "outputs": [
        {
          "name": "stdout",
          "output_type": "stream",
          "text": [
            "2019\n"
          ]
        }
      ],
      "source": [
        "year = \"2019\"\n",
        "print (year)"
      ]
    },
    {
      "cell_type": "code",
      "execution_count": null,
      "id": "45eb0428",
      "metadata": {
        "id": "45eb0428",
        "outputId": "51ab8df4-32eb-438b-9445-bca722fb9f91"
      },
      "outputs": [
        {
          "name": "stdout",
          "output_type": "stream",
          "text": [
            "3.14\n"
          ]
        }
      ],
      "source": [
        "pi =3.14\n",
        "print (pi)"
      ]
    },
    {
      "cell_type": "code",
      "execution_count": null,
      "id": "35bd3c23",
      "metadata": {
        "id": "35bd3c23",
        "outputId": "17e3c261-e2ed-47ff-cc86-81db47958a1f"
      },
      "outputs": [
        {
          "name": "stdout",
          "output_type": "stream",
          "text": [
            "True\n"
          ]
        }
      ],
      "source": [
        "bool_ = True\n",
        "print(bool_)"
      ]
    },
    {
      "cell_type": "code",
      "execution_count": null,
      "id": "4d4e5ab0",
      "metadata": {
        "id": "4d4e5ab0",
        "outputId": "0f2aded4-e6f3-4b0d-98c3-8c31ed63fdb9"
      },
      "outputs": [
        {
          "name": "stdout",
          "output_type": "stream",
          "text": [
            "31\n"
          ]
        }
      ],
      "source": [
        "halloween = 31\n",
        "print (halloween)"
      ]
    },
    {
      "cell_type": "code",
      "execution_count": null,
      "id": "d6f14b32",
      "metadata": {
        "id": "d6f14b32",
        "outputId": "775e007e-13ab-4e51-814c-34fdfa66bc03"
      },
      "outputs": [
        {
          "name": "stdout",
          "output_type": "stream",
          "text": [
            "Earth radius in mile 3950.02\n"
          ]
        }
      ],
      "source": [
        "earth_radius_in_km = 6371\n",
        "one_mile = 0.62 #km //converting mile to km\n",
        "print (\"Earth radius in mile\",earth_radius_in_km * one_mile)"
      ]
    },
    {
      "cell_type": "code",
      "execution_count": null,
      "id": "2420e2e1",
      "metadata": {
        "id": "2420e2e1",
        "outputId": "780fa939-e2c6-4455-c1c7-2112498712cd"
      },
      "outputs": [
        {
          "name": "stdout",
          "output_type": "stream",
          "text": [
            "Altitude in meters: 12192.0\n"
          ]
        }
      ],
      "source": [
        "altitude_in_feet = 40000\n",
        "one_meters =0.3048 #feet //converting meter to feet\n",
        "print(\"Altitude in meters:\", altitude_in_feet * one_meters)"
      ]
    },
    {
      "cell_type": "code",
      "execution_count": 1,
      "id": "649d07eb",
      "metadata": {
        "id": "649d07eb",
        "outputId": "27298801-3fe4-480c-e4c7-8026a785156a",
        "colab": {
          "base_uri": "https://localhost:8080/"
        }
      },
      "outputs": [
        {
          "output_type": "stream",
          "name": "stdout",
          "text": [
            "16\n",
            "23\n"
          ]
        }
      ],
      "source": [
        "x = 5\n",
        "y=9\n",
        "z=8\n",
        "w= 6\n",
        "print (x + y +z -w)\n",
        "print (x + y *(z-w)) #bracket was added to see the differnt between two equation\n"
      ]
    },
    {
      "cell_type": "code",
      "execution_count": null,
      "id": "7918da6a",
      "metadata": {
        "id": "7918da6a"
      },
      "outputs": [],
      "source": []
    }
  ],
  "metadata": {
    "kernelspec": {
      "display_name": "Python 3 (ipykernel)",
      "language": "python",
      "name": "python3"
    },
    "language_info": {
      "codemirror_mode": {
        "name": "ipython",
        "version": 3
      },
      "file_extension": ".py",
      "mimetype": "text/x-python",
      "name": "python",
      "nbconvert_exporter": "python",
      "pygments_lexer": "ipython3",
      "version": "3.11.5"
    },
    "colab": {
      "provenance": []
    }
  },
  "nbformat": 4,
  "nbformat_minor": 5
}