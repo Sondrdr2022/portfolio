{
 "cells": [
  {
   "cell_type": "code",
   "execution_count": 1,
   "id": "e679cbbf",
   "metadata": {},
   "outputs": [
    {
     "name": "stdout",
     "output_type": "stream",
     "text": [
      "name: Dave age: 50 Is retired: True height: 160\n",
      "New Name: Dave\n"
     ]
    }
   ],
   "source": [
    "name = \"Dave\" #chararacter variable\n",
    "age = 50 #interger variable\n",
    "is_retired = True \n",
    "height = 160\n",
    "\n",
    "new_name = name\n",
    "\n",
    "print(\"name:\", name, \"age:\", age, \"Is retired:\", is_retired, \"height:\", height)\n",
    "print(\"New Name:\", new_name)"
   ]
  },
  {
   "cell_type": "code",
   "execution_count": 4,
   "id": "56fb5a9b",
   "metadata": {},
   "outputs": [
    {
     "name": "stdout",
     "output_type": "stream",
     "text": [
      "0.9\n",
      "0.4\n"
     ]
    }
   ],
   "source": [
    "glass = 0.5\n",
    "pull = 0.4\n",
    "glass += pull\n",
    "print(glass)\n",
    "print(pull)\n"
   ]
  },
  {
   "cell_type": "code",
   "execution_count": 6,
   "id": "ba421903",
   "metadata": {},
   "outputs": [
    {
     "name": "stdout",
     "output_type": "stream",
     "text": [
      "0.5\n",
      "0.4\n"
     ]
    }
   ],
   "source": [
    "glass = 0.5\n",
    "pull = 0.4\n",
    "glass += pull\n",
    "glass -= pull\n",
    "glass /= pull\n",
    "glass *= pull\n",
    "print(glass)\n",
    "print(pull)\n"
   ]
  },
  {
   "cell_type": "code",
   "execution_count": 8,
   "id": "183bbb07",
   "metadata": {},
   "outputs": [
    {
     "name": "stdout",
     "output_type": "stream",
     "text": [
      "Enter a number: 88\n",
      "You got an even number.\n"
     ]
    }
   ],
   "source": [
    "number = int(input(\"Enter a number: \")) #input command will scan for user input number\n",
    "if number % 2 == 0:\n",
    "    print(\"You got an even number.\")\n",
    "else:\n",
    "    print(\"You got an odd number.\")"
   ]
  },
  {
   "cell_type": "code",
   "execution_count": 13,
   "id": "23b5e443",
   "metadata": {},
   "outputs": [
    {
     "name": "stdout",
     "output_type": "stream",
     "text": [
      "Enter a year: 2024\n",
      "Entered year isn't a leap year\n"
     ]
    }
   ],
   "source": [
    "year = int(input(\"Enter a year: \")) #input command will scan for user input number\n",
    "if(year % 4 ==0 or year % 100 !=0) or (year % 400 ==0): #this will check if the input year divisible by 4 and 400 and not divisible to 100 or not\n",
    " print (\"Entered year isn't a leap year\")\n",
    "else : \n",
    " print (\"Entered year is a leap year\")"
   ]
  }
 ],
 "metadata": {
  "kernelspec": {
   "display_name": "Python 3 (ipykernel)",
   "language": "python",
   "name": "python3"
  },
  "language_info": {
   "codemirror_mode": {
    "name": "ipython",
    "version": 3
   },
   "file_extension": ".py",
   "mimetype": "text/x-python",
   "name": "python",
   "nbconvert_exporter": "python",
   "pygments_lexer": "ipython3",
   "version": "3.11.5"
  }
 },
 "nbformat": 4,
 "nbformat_minor": 5
}
